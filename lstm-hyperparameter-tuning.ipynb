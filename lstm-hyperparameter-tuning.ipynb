{
 "cells": [
  {
   "cell_type": "markdown",
   "metadata": {
    "id": "vglX3vOPxy6w"
   },
   "source": [
    "#### Import Required Libraries"
   ]
  },
  {
   "cell_type": "code",
   "execution_count": null,
   "metadata": {
    "execution": {
     "iopub.execute_input": "2025-10-18T10:16:49.873048Z",
     "iopub.status.busy": "2025-10-18T10:16:49.872512Z",
     "iopub.status.idle": "2025-10-18T10:17:04.793070Z",
     "shell.execute_reply": "2025-10-18T10:17:04.792505Z",
     "shell.execute_reply.started": "2025-10-18T10:16:49.873025Z"
    },
    "id": "m7uJEJA1x0bL",
    "trusted": true
   },
   "outputs": [
    {
     "name": "stderr",
     "output_type": "stream",
     "text": [
      "2025-10-18 10:16:52.757443: E external/local_xla/xla/stream_executor/cuda/cuda_fft.cc:477] Unable to register cuFFT factory: Attempting to register factory for plugin cuFFT when one has already been registered\n",
      "WARNING: All log messages before absl::InitializeLog() is called are written to STDERR\n",
      "E0000 00:00:1760782613.004187      37 cuda_dnn.cc:8310] Unable to register cuDNN factory: Attempting to register factory for plugin cuDNN when one has already been registered\n",
      "E0000 00:00:1760782613.083030      37 cuda_blas.cc:1418] Unable to register cuBLAS factory: Attempting to register factory for plugin cuBLAS when one has already been registered\n"
     ]
    }
   ],
   "source": [
    "# Minor doc/comment update for clarity (re-PR for tracking)\n",
    "\n",
    "import numpy as np\n",
    "import matplotlib.pyplot as plt\n",
    "import seaborn as sns\n",
    "from sklearn.model_selection import train_test_split\n",
    "from sklearn.metrics import (classification_report, confusion_matrix,\n",
    "                            accuracy_score, precision_recall_fscore_support)\n",
    "import tensorflow as tf\n",
    "from tensorflow import keras\n",
    "from tensorflow.keras import layers, models, callbacks\n",
    "from tensorflow.keras.utils import plot_model\n",
    "\n",
    "# Set random seeds for reproducibility\n",
    "np.random.seed(42)\n",
    "tf.random.set_seed(42)"
   ]
  },
  {
   "cell_type": "code",
   "execution_count": 2,
   "metadata": {
    "colab": {
     "base_uri": "https://localhost:8080/"
    },
    "execution": {
     "iopub.execute_input": "2025-10-18T10:17:04.794624Z",
     "iopub.status.busy": "2025-10-18T10:17:04.794198Z",
     "iopub.status.idle": "2025-10-18T10:17:10.393915Z",
     "shell.execute_reply": "2025-10-18T10:17:10.393262Z",
     "shell.execute_reply.started": "2025-10-18T10:17:04.794606Z"
    },
    "id": "Y-8J1FOlx4j3",
    "outputId": "b7aa49a8-61ee-4726-d46e-4badf0c17a87",
    "trusted": true
   },
   "outputs": [
    {
     "name": "stdout",
     "output_type": "stream",
     "text": [
      "Loading preprocessed data...\n",
      "Data shape: X=(112559, 250, 1), y=(112559, 5)\n",
      "Classes: ['F' 'N' 'Q' 'S' 'V']\n"
     ]
    }
   ],
   "source": [
    "print(\"Loading preprocessed data...\")\n",
    "data = np.load('/kaggle/input/ecg-mitdb-processed/ecg_mitdb_processed.npz')\n",
    "X = data['X']\n",
    "y = data['y']\n",
    "label_names = data['label_names']\n",
    "\n",
    "print(f\"Data shape: X={X.shape}, y={y.shape}\")\n",
    "print(f\"Classes: {label_names}\")\n"
   ]
  },
  {
   "cell_type": "code",
   "execution_count": 3,
   "metadata": {
    "colab": {
     "base_uri": "https://localhost:8080/"
    },
    "execution": {
     "iopub.execute_input": "2025-10-18T10:17:10.394972Z",
     "iopub.status.busy": "2025-10-18T10:17:10.394707Z",
     "iopub.status.idle": "2025-10-18T10:17:10.625868Z",
     "shell.execute_reply": "2025-10-18T10:17:10.625222Z",
     "shell.execute_reply.started": "2025-10-18T10:17:10.394947Z"
    },
    "id": "aZGPXypTx-N5",
    "outputId": "1ce032cd-c734-43a4-c75a-e3732020573d",
    "trusted": true
   },
   "outputs": [
    {
     "name": "stdout",
     "output_type": "stream",
     "text": [
      "\n",
      "Splitting data...\n",
      "Train set: 72037 samples\n",
      "Validation set: 18010 samples\n",
      "Test set: 22512 samples\n"
     ]
    }
   ],
   "source": [
    "print(\"\\nSplitting data...\")\n",
    "# First split: 80% train+val, 20% test\n",
    "X_temp, X_test, y_temp, y_test = train_test_split(\n",
    "    X, y, test_size=0.2, random_state=42, stratify=y.argmax(axis=1)\n",
    ")\n",
    "\n",
    "# Second split: 80% train, 20% validation (of the 80%)\n",
    "X_train, X_val, y_train, y_val = train_test_split(\n",
    "    X_temp, y_temp, test_size=0.2, random_state=42, stratify=y_temp.argmax(axis=1)\n",
    ")\n",
    "\n",
    "print(f\"Train set: {X_train.shape[0]} samples\")\n",
    "print(f\"Validation set: {X_val.shape[0]} samples\")\n",
    "print(f\"Test set: {X_test.shape[0]} samples\")\n"
   ]
  },
  {
   "cell_type": "code",
   "execution_count": null,
   "metadata": {
    "trusted": true
   },
   "outputs": [],
   "source": []
  },
  {
   "cell_type": "code",
   "execution_count": 4,
   "metadata": {
    "execution": {
     "iopub.execute_input": "2025-10-18T10:17:10.627405Z",
     "iopub.status.busy": "2025-10-18T10:17:10.627188Z",
     "iopub.status.idle": "2025-10-18T11:17:31.906590Z",
     "shell.execute_reply": "2025-10-18T11:17:31.905729Z",
     "shell.execute_reply.started": "2025-10-18T10:17:10.627389Z"
    },
    "trusted": true
   },
   "outputs": [
    {
     "name": "stdout",
     "output_type": "stream",
     "text": [
      "Trial 12 Complete [00h 05m 18s]\n",
      "val_accuracy: 0.9738478660583496\n",
      "\n",
      "Best val_accuracy So Far: 0.9738478660583496\n",
      "Total elapsed time: 01h 00m 17s\n",
      "\n",
      "🏆 Best Hyperparameters (Focused Quick Scan):\n",
      "lstm1_units: 96\n",
      "bidirectional: True\n",
      "dropout1: 0.4\n",
      "lstm2_units: 40\n",
      "dropout2: 0.2\n",
      "dense1_units: 48\n",
      "dense2_units: 32\n",
      "learning_rate: 0.001\n"
     ]
    },
    {
     "name": "stderr",
     "output_type": "stream",
     "text": [
      "/usr/local/lib/python3.11/dist-packages/keras/src/saving/saving_lib.py:757: UserWarning: Skipping variable loading for optimizer 'adam', because it has 2 variables whereas the saved optimizer has 46 variables. \n",
      "  saveable.load_own_variables(weights_store.get(inner_path))\n"
     ]
    }
   ],
   "source": [
    "# ===========================================================\n",
    "# 🎯 Focused Bayesian LSTM Hyperparameter Scan (Quick Version)\n",
    "# ===========================================================\n",
    "\n",
    "import keras_tuner as kt\n",
    "from tensorflow import keras\n",
    "from tensorflow.keras import layers, callbacks, models\n",
    "\n",
    "print(\"\\n🔧 Starting Focused Quick Bayesian Scan...\")\n",
    "\n",
    "# ----------------------------\n",
    "# Early stopping & LR reduction\n",
    "# ----------------------------\n",
    "early_stop = callbacks.EarlyStopping(\n",
    "    monitor='val_loss',\n",
    "    patience=2,\n",
    "    restore_best_weights=True\n",
    ")\n",
    "\n",
    "reduce_lr = callbacks.ReduceLROnPlateau(\n",
    "    monitor='val_loss',\n",
    "    factor=0.5,\n",
    "    patience=2,\n",
    "    min_lr=1e-5\n",
    ")\n",
    "\n",
    "# ----------------------------\n",
    "# Build model\n",
    "# ----------------------------\n",
    "def build_lstm_model(hp):\n",
    "    model = keras.Sequential()\n",
    "\n",
    "    # --- First LSTM layer ---\n",
    "    units1 = hp.Int('lstm1_units', 96, 160, step=32)\n",
    "    bidir = hp.Boolean('bidirectional', default=False)\n",
    "    dropout1 = hp.Float('dropout1', 0.2, 0.4, step=0.1)\n",
    "\n",
    "    lstm1 = layers.LSTM(units1, return_sequences=True, input_shape=(X_train.shape[1], X_train.shape[2]))\n",
    "    if bidir:\n",
    "        lstm1 = layers.Bidirectional(lstm1)\n",
    "    model.add(lstm1)\n",
    "    model.add(layers.Dropout(dropout1))\n",
    "    model.add(layers.BatchNormalization())\n",
    "\n",
    "    # --- Second LSTM layer ---\n",
    "    units2 = hp.Int('lstm2_units', 24, 40, step=8)\n",
    "    dropout2 = hp.Float('dropout2', 0.2, 0.4, step=0.1)\n",
    "    lstm2 = layers.LSTM(units2)\n",
    "    if bidir:\n",
    "        lstm2 = layers.Bidirectional(lstm2)\n",
    "    model.add(lstm2)\n",
    "    model.add(layers.Dropout(dropout2))\n",
    "    model.add(layers.BatchNormalization())\n",
    "\n",
    "    # --- Dense layers ---\n",
    "    dense1 = hp.Int('dense1_units', 48, 80, step=16)\n",
    "    dense2 = hp.Int('dense2_units', 24, 32, step=8)\n",
    "    model.add(layers.Dense(dense1, activation='relu'))\n",
    "    model.add(layers.Dropout(0.3))\n",
    "    model.add(layers.Dense(dense2, activation='relu'))\n",
    "    model.add(layers.Dropout(0.2))\n",
    "\n",
    "    # --- Output layer ---\n",
    "    model.add(layers.Dense(y_train.shape[1], activation='softmax'))\n",
    "\n",
    "    # --- Optimizer ---\n",
    "    lr = hp.Choice('learning_rate', [1e-3, 7e-4, 5e-4])\n",
    "    opt = keras.optimizers.Adam(learning_rate=lr)\n",
    "\n",
    "    model.compile(\n",
    "        optimizer=opt,\n",
    "        loss='categorical_crossentropy',\n",
    "        metrics=['accuracy']\n",
    "    )\n",
    "\n",
    "    return model\n",
    "\n",
    "\n",
    "# ----------------------------\n",
    "# Focused Bayesian tuner (quick version)\n",
    "# ----------------------------\n",
    "tuner = kt.BayesianOptimization(\n",
    "    build_lstm_model,\n",
    "    objective='val_accuracy',\n",
    "    max_trials=12,              \n",
    "    num_initial_points=2,     \n",
    "    overwrite=True\n",
    ")\n",
    "\n",
    "# ----------------------------\n",
    "# Search (short epochs to estimate trend)\n",
    "# ----------------------------\n",
    "tuner.search( \n",
    "    X_train, y_train,\n",
    "    validation_data=(X_val, y_val),\n",
    "    epochs=10,\n",
    "    batch_size=128,\n",
    "    callbacks=[early_stop, reduce_lr],\n",
    "    verbose=1\n",
    ")\n",
    "\n",
    "# ----------------------------\n",
    "# Get best hyperparameters\n",
    "# ----------------------------\n",
    "best_hp = tuner.get_best_hyperparameters(1)[0]\n",
    "best_model = tuner.get_best_models(1)[0]\n",
    "\n",
    "print(\"\\n🏆 Best Hyperparameters (Focused Quick Scan):\")\n",
    "for k, v in best_hp.values.items():\n",
    "    print(f\"{k}: {v}\")\n",
    "\n",
    "\n"
   ]
  },
  {
   "cell_type": "code",
   "execution_count": 5,
   "metadata": {
    "execution": {
     "iopub.execute_input": "2025-10-18T11:17:31.907583Z",
     "iopub.status.busy": "2025-10-18T11:17:31.907353Z",
     "iopub.status.idle": "2025-10-18T11:32:05.985841Z",
     "shell.execute_reply": "2025-10-18T11:32:05.985301Z",
     "shell.execute_reply.started": "2025-10-18T11:17:31.907565Z"
    },
    "trusted": true
   },
   "outputs": [
    {
     "name": "stdout",
     "output_type": "stream",
     "text": [
      "\n",
      "🏆 Best Hyperparameters (Quick Scan):\n",
      "lstm1_units: 96\n",
      "bidirectional: True\n",
      "dropout1: 0.4\n",
      "lstm2_units: 40\n",
      "dropout2: 0.2\n",
      "dense1_units: 48\n",
      "dense2_units: 32\n",
      "learning_rate: 0.001\n",
      "Epoch 1/50\n",
      "\u001b[1m562/563\u001b[0m \u001b[32m━━━━━━━━━━━━━━━━━━━\u001b[0m\u001b[37m━\u001b[0m \u001b[1m0s\u001b[0m 50ms/step - accuracy: 0.9664 - loss: 0.1198\n",
      "Epoch 1: val_loss improved from inf to 0.10141, saving model to best_lstm_model.h5\n",
      "\u001b[1m563/563\u001b[0m \u001b[32m━━━━━━━━━━━━━━━━━━━━\u001b[0m\u001b[37m\u001b[0m \u001b[1m38s\u001b[0m 58ms/step - accuracy: 0.9664 - loss: 0.1198 - val_accuracy: 0.9707 - val_loss: 0.1014 - learning_rate: 0.0010\n",
      "Epoch 2/50\n",
      "\u001b[1m563/563\u001b[0m \u001b[32m━━━━━━━━━━━━━━━━━━━━\u001b[0m\u001b[37m\u001b[0m \u001b[1m0s\u001b[0m 50ms/step - accuracy: 0.9696 - loss: 0.1091\n",
      "Epoch 2: val_loss improved from 0.10141 to 0.09198, saving model to best_lstm_model.h5\n",
      "\u001b[1m563/563\u001b[0m \u001b[32m━━━━━━━━━━━━━━━━━━━━\u001b[0m\u001b[37m\u001b[0m \u001b[1m31s\u001b[0m 55ms/step - accuracy: 0.9696 - loss: 0.1091 - val_accuracy: 0.9721 - val_loss: 0.0920 - learning_rate: 0.0010\n",
      "Epoch 3/50\n",
      "\u001b[1m562/563\u001b[0m \u001b[32m━━━━━━━━━━━━━━━━━━━\u001b[0m\u001b[37m━\u001b[0m \u001b[1m0s\u001b[0m 49ms/step - accuracy: 0.9701 - loss: 0.1064\n",
      "Epoch 3: val_loss did not improve from 0.09198\n",
      "\u001b[1m563/563\u001b[0m \u001b[32m━━━━━━━━━━━━━━━━━━━━\u001b[0m\u001b[37m\u001b[0m \u001b[1m31s\u001b[0m 54ms/step - accuracy: 0.9701 - loss: 0.1064 - val_accuracy: 0.9700 - val_loss: 0.1053 - learning_rate: 0.0010\n",
      "Epoch 4/50\n",
      "\u001b[1m562/563\u001b[0m \u001b[32m━━━━━━━━━━━━━━━━━━━\u001b[0m\u001b[37m━\u001b[0m \u001b[1m0s\u001b[0m 50ms/step - accuracy: 0.9697 - loss: 0.1074\n",
      "Epoch 4: val_loss did not improve from 0.09198\n",
      "\u001b[1m563/563\u001b[0m \u001b[32m━━━━━━━━━━━━━━━━━━━━\u001b[0m\u001b[37m\u001b[0m \u001b[1m31s\u001b[0m 55ms/step - accuracy: 0.9697 - loss: 0.1074 - val_accuracy: 0.9722 - val_loss: 0.0940 - learning_rate: 0.0010\n",
      "Epoch 5/50\n",
      "\u001b[1m562/563\u001b[0m \u001b[32m━━━━━━━━━━━━━━━━━━━\u001b[0m\u001b[37m━\u001b[0m \u001b[1m0s\u001b[0m 50ms/step - accuracy: 0.9721 - loss: 0.0998\n",
      "Epoch 5: val_loss improved from 0.09198 to 0.08294, saving model to best_lstm_model.h5\n",
      "\u001b[1m563/563\u001b[0m \u001b[32m━━━━━━━━━━━━━━━━━━━━\u001b[0m\u001b[37m\u001b[0m \u001b[1m31s\u001b[0m 55ms/step - accuracy: 0.9721 - loss: 0.0998 - val_accuracy: 0.9760 - val_loss: 0.0829 - learning_rate: 0.0010\n",
      "Epoch 6/50\n",
      "\u001b[1m563/563\u001b[0m \u001b[32m━━━━━━━━━━━━━━━━━━━━\u001b[0m\u001b[37m\u001b[0m \u001b[1m0s\u001b[0m 50ms/step - accuracy: 0.9718 - loss: 0.0991\n",
      "Epoch 6: val_loss improved from 0.08294 to 0.07310, saving model to best_lstm_model.h5\n",
      "\u001b[1m563/563\u001b[0m \u001b[32m━━━━━━━━━━━━━━━━━━━━\u001b[0m\u001b[37m\u001b[0m \u001b[1m31s\u001b[0m 55ms/step - accuracy: 0.9718 - loss: 0.0991 - val_accuracy: 0.9792 - val_loss: 0.0731 - learning_rate: 0.0010\n",
      "Epoch 7/50\n",
      "\u001b[1m562/563\u001b[0m \u001b[32m━━━━━━━━━━━━━━━━━━━\u001b[0m\u001b[37m━\u001b[0m \u001b[1m0s\u001b[0m 50ms/step - accuracy: 0.9736 - loss: 0.0909\n",
      "Epoch 7: val_loss did not improve from 0.07310\n",
      "\u001b[1m563/563\u001b[0m \u001b[32m━━━━━━━━━━━━━━━━━━━━\u001b[0m\u001b[37m\u001b[0m \u001b[1m31s\u001b[0m 55ms/step - accuracy: 0.9736 - loss: 0.0909 - val_accuracy: 0.9774 - val_loss: 0.0767 - learning_rate: 0.0010\n",
      "Epoch 8/50\n",
      "\u001b[1m562/563\u001b[0m \u001b[32m━━━━━━━━━━━━━━━━━━━\u001b[0m\u001b[37m━\u001b[0m \u001b[1m0s\u001b[0m 50ms/step - accuracy: 0.9748 - loss: 0.0889\n",
      "Epoch 8: val_loss did not improve from 0.07310\n",
      "\u001b[1m563/563\u001b[0m \u001b[32m━━━━━━━━━━━━━━━━━━━━\u001b[0m\u001b[37m\u001b[0m \u001b[1m31s\u001b[0m 55ms/step - accuracy: 0.9748 - loss: 0.0889 - val_accuracy: 0.9757 - val_loss: 0.0875 - learning_rate: 0.0010\n",
      "Epoch 9/50\n",
      "\u001b[1m563/563\u001b[0m \u001b[32m━━━━━━━━━━━━━━━━━━━━\u001b[0m\u001b[37m\u001b[0m \u001b[1m0s\u001b[0m 50ms/step - accuracy: 0.9746 - loss: 0.0916\n",
      "Epoch 9: val_loss did not improve from 0.07310\n",
      "\u001b[1m563/563\u001b[0m \u001b[32m━━━━━━━━━━━━━━━━━━━━\u001b[0m\u001b[37m\u001b[0m \u001b[1m31s\u001b[0m 55ms/step - accuracy: 0.9746 - loss: 0.0916 - val_accuracy: 0.9739 - val_loss: 0.0881 - learning_rate: 0.0010\n",
      "Epoch 10/50\n",
      "\u001b[1m562/563\u001b[0m \u001b[32m━━━━━━━━━━━━━━━━━━━\u001b[0m\u001b[37m━\u001b[0m \u001b[1m0s\u001b[0m 50ms/step - accuracy: 0.9769 - loss: 0.0824\n",
      "Epoch 10: val_loss improved from 0.07310 to 0.06606, saving model to best_lstm_model.h5\n",
      "\u001b[1m563/563\u001b[0m \u001b[32m━━━━━━━━━━━━━━━━━━━━\u001b[0m\u001b[37m\u001b[0m \u001b[1m31s\u001b[0m 55ms/step - accuracy: 0.9769 - loss: 0.0823 - val_accuracy: 0.9810 - val_loss: 0.0661 - learning_rate: 5.0000e-04\n",
      "Epoch 11/50\n",
      "\u001b[1m562/563\u001b[0m \u001b[32m━━━━━━━━━━━━━━━━━━━\u001b[0m\u001b[37m━\u001b[0m \u001b[1m0s\u001b[0m 50ms/step - accuracy: 0.9792 - loss: 0.0739\n",
      "Epoch 11: val_loss improved from 0.06606 to 0.06340, saving model to best_lstm_model.h5\n",
      "\u001b[1m563/563\u001b[0m \u001b[32m━━━━━━━━━━━━━━━━━━━━\u001b[0m\u001b[37m\u001b[0m \u001b[1m31s\u001b[0m 55ms/step - accuracy: 0.9792 - loss: 0.0739 - val_accuracy: 0.9813 - val_loss: 0.0634 - learning_rate: 5.0000e-04\n",
      "Epoch 12/50\n",
      "\u001b[1m562/563\u001b[0m \u001b[32m━━━━━━━━━━━━━━━━━━━\u001b[0m\u001b[37m━\u001b[0m \u001b[1m0s\u001b[0m 50ms/step - accuracy: 0.9786 - loss: 0.0712\n",
      "Epoch 12: val_loss improved from 0.06340 to 0.06142, saving model to best_lstm_model.h5\n",
      "\u001b[1m563/563\u001b[0m \u001b[32m━━━━━━━━━━━━━━━━━━━━\u001b[0m\u001b[37m\u001b[0m \u001b[1m31s\u001b[0m 55ms/step - accuracy: 0.9786 - loss: 0.0711 - val_accuracy: 0.9827 - val_loss: 0.0614 - learning_rate: 5.0000e-04\n",
      "Epoch 13/50\n",
      "\u001b[1m562/563\u001b[0m \u001b[32m━━━━━━━━━━━━━━━━━━━\u001b[0m\u001b[37m━\u001b[0m \u001b[1m0s\u001b[0m 50ms/step - accuracy: 0.9816 - loss: 0.0629\n",
      "Epoch 13: val_loss improved from 0.06142 to 0.05994, saving model to best_lstm_model.h5\n",
      "\u001b[1m563/563\u001b[0m \u001b[32m━━━━━━━━━━━━━━━━━━━━\u001b[0m\u001b[37m\u001b[0m \u001b[1m31s\u001b[0m 55ms/step - accuracy: 0.9816 - loss: 0.0629 - val_accuracy: 0.9827 - val_loss: 0.0599 - learning_rate: 5.0000e-04\n",
      "Epoch 14/50\n",
      "\u001b[1m563/563\u001b[0m \u001b[32m━━━━━━━━━━━━━━━━━━━━\u001b[0m\u001b[37m\u001b[0m \u001b[1m0s\u001b[0m 50ms/step - accuracy: 0.9816 - loss: 0.0639\n",
      "Epoch 14: val_loss improved from 0.05994 to 0.05945, saving model to best_lstm_model.h5\n",
      "\u001b[1m563/563\u001b[0m \u001b[32m━━━━━━━━━━━━━━━━━━━━\u001b[0m\u001b[37m\u001b[0m \u001b[1m31s\u001b[0m 55ms/step - accuracy: 0.9816 - loss: 0.0639 - val_accuracy: 0.9829 - val_loss: 0.0594 - learning_rate: 5.0000e-04\n",
      "Epoch 15/50\n",
      "\u001b[1m562/563\u001b[0m \u001b[32m━━━━━━━━━━━━━━━━━━━\u001b[0m\u001b[37m━\u001b[0m \u001b[1m0s\u001b[0m 50ms/step - accuracy: 0.9815 - loss: 0.0629\n",
      "Epoch 15: val_loss improved from 0.05945 to 0.05821, saving model to best_lstm_model.h5\n",
      "\u001b[1m563/563\u001b[0m \u001b[32m━━━━━━━━━━━━━━━━━━━━\u001b[0m\u001b[37m\u001b[0m \u001b[1m31s\u001b[0m 55ms/step - accuracy: 0.9815 - loss: 0.0629 - val_accuracy: 0.9836 - val_loss: 0.0582 - learning_rate: 5.0000e-04\n",
      "Epoch 16/50\n",
      "\u001b[1m562/563\u001b[0m \u001b[32m━━━━━━━━━━━━━━━━━━━\u001b[0m\u001b[37m━\u001b[0m \u001b[1m0s\u001b[0m 50ms/step - accuracy: 0.9824 - loss: 0.0624\n",
      "Epoch 16: val_loss did not improve from 0.05821\n",
      "\u001b[1m563/563\u001b[0m \u001b[32m━━━━━━━━━━━━━━━━━━━━\u001b[0m\u001b[37m\u001b[0m \u001b[1m31s\u001b[0m 54ms/step - accuracy: 0.9824 - loss: 0.0624 - val_accuracy: 0.9834 - val_loss: 0.0587 - learning_rate: 5.0000e-04\n",
      "Epoch 17/50\n",
      "\u001b[1m562/563\u001b[0m \u001b[32m━━━━━━━━━━━━━━━━━━━\u001b[0m\u001b[37m━\u001b[0m \u001b[1m0s\u001b[0m 50ms/step - accuracy: 0.9826 - loss: 0.0594\n",
      "Epoch 17: val_loss improved from 0.05821 to 0.05767, saving model to best_lstm_model.h5\n",
      "\u001b[1m563/563\u001b[0m \u001b[32m━━━━━━━━━━━━━━━━━━━━\u001b[0m\u001b[37m\u001b[0m \u001b[1m31s\u001b[0m 55ms/step - accuracy: 0.9826 - loss: 0.0594 - val_accuracy: 0.9841 - val_loss: 0.0577 - learning_rate: 5.0000e-04\n",
      "Epoch 18/50\n",
      "\u001b[1m563/563\u001b[0m \u001b[32m━━━━━━━━━━━━━━━━━━━━\u001b[0m\u001b[37m\u001b[0m \u001b[1m0s\u001b[0m 50ms/step - accuracy: 0.9831 - loss: 0.0586\n",
      "Epoch 18: val_loss did not improve from 0.05767\n",
      "\u001b[1m563/563\u001b[0m \u001b[32m━━━━━━━━━━━━━━━━━━━━\u001b[0m\u001b[37m\u001b[0m \u001b[1m31s\u001b[0m 55ms/step - accuracy: 0.9831 - loss: 0.0586 - val_accuracy: 0.9826 - val_loss: 0.0598 - learning_rate: 5.0000e-04\n",
      "Epoch 19/50\n",
      "\u001b[1m562/563\u001b[0m \u001b[32m━━━━━━━━━━━━━━━━━━━\u001b[0m\u001b[37m━\u001b[0m \u001b[1m0s\u001b[0m 50ms/step - accuracy: 0.9837 - loss: 0.0564\n",
      "Epoch 19: val_loss improved from 0.05767 to 0.05402, saving model to best_lstm_model.h5\n",
      "\u001b[1m563/563\u001b[0m \u001b[32m━━━━━━━━━━━━━━━━━━━━\u001b[0m\u001b[37m\u001b[0m \u001b[1m31s\u001b[0m 55ms/step - accuracy: 0.9837 - loss: 0.0564 - val_accuracy: 0.9850 - val_loss: 0.0540 - learning_rate: 5.0000e-04\n",
      "Epoch 20/50\n",
      "\u001b[1m562/563\u001b[0m \u001b[32m━━━━━━━━━━━━━━━━━━━\u001b[0m\u001b[37m━\u001b[0m \u001b[1m0s\u001b[0m 50ms/step - accuracy: 0.9841 - loss: 0.0556\n",
      "Epoch 20: val_loss did not improve from 0.05402\n",
      "\u001b[1m563/563\u001b[0m \u001b[32m━━━━━━━━━━━━━━━━━━━━\u001b[0m\u001b[37m\u001b[0m \u001b[1m31s\u001b[0m 54ms/step - accuracy: 0.9841 - loss: 0.0556 - val_accuracy: 0.9835 - val_loss: 0.0631 - learning_rate: 5.0000e-04\n",
      "Epoch 21/50\n",
      "\u001b[1m563/563\u001b[0m \u001b[32m━━━━━━━━━━━━━━━━━━━━\u001b[0m\u001b[37m\u001b[0m \u001b[1m0s\u001b[0m 50ms/step - accuracy: 0.9837 - loss: 0.0583\n",
      "Epoch 21: val_loss did not improve from 0.05402\n",
      "\u001b[1m563/563\u001b[0m \u001b[32m━━━━━━━━━━━━━━━━━━━━\u001b[0m\u001b[37m\u001b[0m \u001b[1m31s\u001b[0m 55ms/step - accuracy: 0.9837 - loss: 0.0583 - val_accuracy: 0.9795 - val_loss: 0.0684 - learning_rate: 5.0000e-04\n",
      "Epoch 22/50\n",
      "\u001b[1m562/563\u001b[0m \u001b[32m━━━━━━━━━━━━━━━━━━━\u001b[0m\u001b[37m━\u001b[0m \u001b[1m0s\u001b[0m 50ms/step - accuracy: 0.9835 - loss: 0.0554\n",
      "Epoch 22: val_loss did not improve from 0.05402\n",
      "\u001b[1m563/563\u001b[0m \u001b[32m━━━━━━━━━━━━━━━━━━━━\u001b[0m\u001b[37m\u001b[0m \u001b[1m31s\u001b[0m 55ms/step - accuracy: 0.9835 - loss: 0.0554 - val_accuracy: 0.9823 - val_loss: 0.0616 - learning_rate: 5.0000e-04\n",
      "Epoch 23/50\n",
      "\u001b[1m562/563\u001b[0m \u001b[32m━━━━━━━━━━━━━━━━━━━\u001b[0m\u001b[37m━\u001b[0m \u001b[1m0s\u001b[0m 50ms/step - accuracy: 0.9845 - loss: 0.0525\n",
      "Epoch 23: val_loss improved from 0.05402 to 0.05138, saving model to best_lstm_model.h5\n",
      "\u001b[1m563/563\u001b[0m \u001b[32m━━━━━━━━━━━━━━━━━━━━\u001b[0m\u001b[37m\u001b[0m \u001b[1m31s\u001b[0m 55ms/step - accuracy: 0.9845 - loss: 0.0525 - val_accuracy: 0.9861 - val_loss: 0.0514 - learning_rate: 2.5000e-04\n",
      "Epoch 24/50\n",
      "\u001b[1m562/563\u001b[0m \u001b[32m━━━━━━━━━━━━━━━━━━━\u001b[0m\u001b[37m━\u001b[0m \u001b[1m0s\u001b[0m 51ms/step - accuracy: 0.9868 - loss: 0.0451\n",
      "Epoch 24: val_loss did not improve from 0.05138\n",
      "\u001b[1m563/563\u001b[0m \u001b[32m━━━━━━━━━━━━━━━━━━━━\u001b[0m\u001b[37m\u001b[0m \u001b[1m31s\u001b[0m 56ms/step - accuracy: 0.9868 - loss: 0.0451 - val_accuracy: 0.9863 - val_loss: 0.0530 - learning_rate: 2.5000e-04\n",
      "Epoch 25/50\n",
      "\u001b[1m562/563\u001b[0m \u001b[32m━━━━━━━━━━━━━━━━━━━\u001b[0m\u001b[37m━\u001b[0m \u001b[1m0s\u001b[0m 50ms/step - accuracy: 0.9874 - loss: 0.0438\n",
      "Epoch 25: val_loss did not improve from 0.05138\n",
      "\u001b[1m563/563\u001b[0m \u001b[32m━━━━━━━━━━━━━━━━━━━━\u001b[0m\u001b[37m\u001b[0m \u001b[1m31s\u001b[0m 55ms/step - accuracy: 0.9874 - loss: 0.0438 - val_accuracy: 0.9857 - val_loss: 0.0544 - learning_rate: 2.5000e-04\n",
      "Epoch 26/50\n",
      "\u001b[1m562/563\u001b[0m \u001b[32m━━━━━━━━━━━━━━━━━━━\u001b[0m\u001b[37m━\u001b[0m \u001b[1m0s\u001b[0m 50ms/step - accuracy: 0.9873 - loss: 0.0429\n",
      "Epoch 26: val_loss did not improve from 0.05138\n",
      "\u001b[1m563/563\u001b[0m \u001b[32m━━━━━━━━━━━━━━━━━━━━\u001b[0m\u001b[37m\u001b[0m \u001b[1m31s\u001b[0m 54ms/step - accuracy: 0.9873 - loss: 0.0429 - val_accuracy: 0.9856 - val_loss: 0.0546 - learning_rate: 2.5000e-04\n",
      "Epoch 27/50\n",
      "\u001b[1m562/563\u001b[0m \u001b[32m━━━━━━━━━━━━━━━━━━━\u001b[0m\u001b[37m━\u001b[0m \u001b[1m0s\u001b[0m 50ms/step - accuracy: 0.9878 - loss: 0.0421\n",
      "Epoch 27: val_loss did not improve from 0.05138\n",
      "\u001b[1m563/563\u001b[0m \u001b[32m━━━━━━━━━━━━━━━━━━━━\u001b[0m\u001b[37m\u001b[0m \u001b[1m31s\u001b[0m 54ms/step - accuracy: 0.9878 - loss: 0.0421 - val_accuracy: 0.9865 - val_loss: 0.0515 - learning_rate: 1.2500e-04\n",
      "Epoch 28/50\n",
      "\u001b[1m562/563\u001b[0m \u001b[32m━━━━━━━━━━━━━━━━━━━\u001b[0m\u001b[37m━\u001b[0m \u001b[1m0s\u001b[0m 50ms/step - accuracy: 0.9885 - loss: 0.0376\n",
      "Epoch 28: val_loss did not improve from 0.05138\n",
      "\u001b[1m563/563\u001b[0m \u001b[32m━━━━━━━━━━━━━━━━━━━━\u001b[0m\u001b[37m\u001b[0m \u001b[1m31s\u001b[0m 54ms/step - accuracy: 0.9885 - loss: 0.0376 - val_accuracy: 0.9867 - val_loss: 0.0527 - learning_rate: 1.2500e-04\n"
     ]
    }
   ],
   "source": [
    "best_hp = tuner.get_best_hyperparameters(1)[0]\n",
    "best_model = tuner.get_best_models(1)[0]\n",
    "\n",
    "print(\"\\n🏆 Best Hyperparameters (Quick Scan):\")\n",
    "for k, v in best_hp.values.items():\n",
    "    print(f\"{k}: {v}\")\n",
    "    \n",
    "# Callbacks\n",
    "# ----------------------------\n",
    "early_stop = callbacks.EarlyStopping(\n",
    "    monitor='val_loss', patience=5, restore_best_weights=True\n",
    ")\n",
    "reduce_lr = callbacks.ReduceLROnPlateau(\n",
    "    monitor='val_loss', factor=0.5, patience=3, min_lr=1e-5\n",
    ")\n",
    "\n",
    "\n",
    "checkpoint_cb = callbacks.ModelCheckpoint(\n",
    "    \"best_lstm_model.h5\",           \n",
    "    monitor=\"val_loss\",            \n",
    "    save_best_only=True,           \n",
    "    mode=\"min\",                   \n",
    "    verbose=1\n",
    ")\n",
    "\n",
    "# Final Training with adaptive callbacks\n",
    "history = best_model.fit(\n",
    "    X_train, y_train,\n",
    "    validation_data=(X_val, y_val),\n",
    "    epochs=50,\n",
    "    batch_size=128,\n",
    "    callbacks=[early_stop, reduce_lr, checkpoint_cb],  \n",
    "    verbose=1\n",
    ")\n",
    "\n"
   ]
  },
  {
   "cell_type": "code",
   "execution_count": 6,
   "metadata": {
    "execution": {
     "iopub.execute_input": "2025-10-18T11:32:05.987117Z",
     "iopub.status.busy": "2025-10-18T11:32:05.986845Z",
     "iopub.status.idle": "2025-10-18T11:32:25.170918Z",
     "shell.execute_reply": "2025-10-18T11:32:25.170136Z",
     "shell.execute_reply.started": "2025-10-18T11:32:05.987074Z"
    },
    "trusted": true
   },
   "outputs": [
    {
     "name": "stdout",
     "output_type": "stream",
     "text": [
      "\n",
      "======================================================================\n",
      "EVALUATION ON TEST SET\n",
      "======================================================================\n",
      "\u001b[1m704/704\u001b[0m \u001b[32m━━━━━━━━━━━━━━━━━━━━\u001b[0m\u001b[37m\u001b[0m \u001b[1m9s\u001b[0m 13ms/step\n",
      "\n",
      "Test Loss: 0.0528\n",
      "Test Accuracy: 0.9854\n",
      "\n",
      "Classification Report:\n",
      "              precision    recall  f1-score   support\n",
      "\n",
      "           F     0.8477    0.8000    0.8232       160\n",
      "           N     0.9903    0.9951    0.9927     18119\n",
      "           Q     0.9789    0.9767    0.9778      2230\n",
      "           S     0.9510    0.8381    0.8910       556\n",
      "           V     0.9597    0.9537    0.9567      1447\n",
      "\n",
      "    accuracy                         0.9854     22512\n",
      "   macro avg     0.9455    0.9127    0.9283     22512\n",
      "weighted avg     0.9852    0.9854    0.9852     22512\n",
      "\n",
      "\n",
      "Per-Class Detailed Metrics:\n",
      "----------------------------------------------------------------------\n",
      "Class      Precision    Recall       F1-Score     Support   \n",
      "----------------------------------------------------------------------\n",
      "F          0.8477       0.8000       0.8232       160       \n",
      "N          0.9903       0.9951       0.9927       18119     \n",
      "Q          0.9789       0.9767       0.9778       2230      \n",
      "S          0.9510       0.8381       0.8910       556       \n",
      "V          0.9597       0.9537       0.9567       1447      \n"
     ]
    }
   ],
   "source": [
    "print(\"\\n\" + \"=\"*70)\n",
    "print(\"EVALUATION ON TEST SET\")\n",
    "print(\"=\"*70)\n",
    "\n",
    "\n",
    "y_pred_probs = best_model.predict(X_test)\n",
    "y_pred = np.argmax(y_pred_probs, axis=1)\n",
    "y_true = np.argmax(y_test, axis=1)\n",
    "\n",
    "# Evaluate on test data \n",
    "\n",
    "test_loss, test_acc = best_model.evaluate(X_test, y_test, verbose=0)\n",
    "print(f\"\\nTest Loss: {test_loss:.4f}\")\n",
    "print(f\"Test Accuracy: {test_acc:.4f}\")\n",
    "\n",
    "# Classification Report\n",
    "\n",
    "print(\"\\nClassification Report:\")\n",
    "print(classification_report(y_true, y_pred, target_names=label_names, digits=4))\n",
    "\n",
    "# Per-class metrics\n",
    "\n",
    "precision, recall, f1, support = precision_recall_fscore_support(y_true, y_pred)\n",
    "print(\"\\nPer-Class Detailed Metrics:\")\n",
    "print(\"-\" * 70)\n",
    "print(f\"{'Class':<10} {'Precision':<12} {'Recall':<12} {'F1-Score':<12} {'Support':<10}\")\n",
    "print(\"-\" * 70)\n",
    "for i, label in enumerate(label_names):\n",
    "    print(f\"{label:<10} {precision[i]:<12.4f} {recall[i]:<12.4f} {f1[i]:<12.4f} {support[i]:<10}\")\n"
   ]
  },
  {
   "cell_type": "code",
   "execution_count": 7,
   "metadata": {
    "execution": {
     "iopub.execute_input": "2025-10-18T11:32:25.172135Z",
     "iopub.status.busy": "2025-10-18T11:32:25.171777Z",
     "iopub.status.idle": "2025-10-18T11:32:25.550400Z",
     "shell.execute_reply": "2025-10-18T11:32:25.549714Z",
     "shell.execute_reply.started": "2025-10-18T11:32:25.172111Z"
    },
    "trusted": true
   },
   "outputs": [
    {
     "name": "stdout",
     "output_type": "stream",
     "text": [
      "\n",
      "======================================================================\n",
      "CONFUSION MATRIX\n",
      "======================================================================\n",
      "\n",
      "Confusion Matrix (raw counts):\n",
      "[[  128    25     0     0     7]\n",
      " [   10 18031    32    21    25]\n",
      " [    0    31  2178     1    20]\n",
      " [    0    80     4   466     6]\n",
      " [   13    41    11     2  1380]]\n"
     ]
    },
    {
     "data": {
      "image/png": "[encoded data removed]",
      "text/plain": [
       "<Figure size 1000x800 with 2 Axes>"
      ]
     },
     "metadata": {},
     "output_type": "display_data"
    }
   ],
   "source": [
    "print(\"\\n\" + \"=\"*70)\n",
    "print(\"CONFUSION MATRIX\")\n",
    "print(\"=\"*70)\n",
    "\n",
    "from sklearn.metrics import confusion_matrix\n",
    "import seaborn as sns\n",
    "import matplotlib.pyplot as plt\n",
    "\n",
    "# Compute confusion matrix\n",
    "\n",
    "cm = confusion_matrix(y_true, y_pred)\n",
    "\n",
    "# Print numeric matrix\n",
    "\n",
    "print(\"\\nConfusion Matrix (raw counts):\")\n",
    "print(cm)\n",
    "\n",
    "# Plot without saving\n",
    "\n",
    "plt.figure(figsize=(10, 8))\n",
    "sns.heatmap(cm, annot=True, fmt='d', cmap='Blues',\n",
    "xticklabels=label_names, yticklabels=label_names)\n",
    "plt.title(\"Confusion Matrix Heatmap\", fontsize=14)\n",
    "plt.xlabel(\"Predicted Label\")\n",
    "plt.ylabel(\"True Label\")\n",
    "plt.tight_layout()\n",
    "plt.show()\n"
   ]
  },
  {
   "cell_type": "code",
   "execution_count": null,
   "metadata": {
    "trusted": true
   },
   "outputs": [],
   "source": []
  },
  {
   "cell_type": "code",
   "execution_count": null,
   "metadata": {
    "trusted": true
   },
   "outputs": [],
   "source": []
  }
 ],
 "metadata": {
  "accelerator": "GPU",
  "colab": {
   "gpuType": "T4",
   "provenance": []
  },
  "kaggle": {
   "accelerator": "nvidiaTeslaT4",
   "dataSources": [
    {
     "datasetId": 8508427,
     "sourceId": 13406794,
     "sourceType": "datasetVersion"
    }
   ],
   "dockerImageVersionId": 31154,
   "isGpuEnabled": true,
   "isInternetEnabled": true,
   "language": "python",
   "sourceType": "notebook"
  },
  "kernelspec": {
   "display_name": "Python 3",
   "language": "python",
   "name": "python3"
  },
  "language_info": {
   "codemirror_mode": {
    "name": "ipython",
    "version": 3
   },
   "file_extension": ".py",
   "mimetype": "text/x-python",
   "name": "python",
   "nbconvert_exporter": "python",
   "pygments_lexer": "ipython3",
   "version": "3.11.13"
  }
 },
 "nbformat": 4,
 "nbformat_minor": 4
}
